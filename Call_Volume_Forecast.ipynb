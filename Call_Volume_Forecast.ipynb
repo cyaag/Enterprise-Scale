{
  "nbformat": 4,
  "nbformat_minor": 0,
  "metadata": {
    "colab": {
      "provenance": [],
      "authorship_tag": "ABX9TyPs688Mxip5HUN1rxZsxzrg",
      "include_colab_link": true
    },
    "kernelspec": {
      "name": "python3",
      "display_name": "Python 3"
    },
    "language_info": {
      "name": "python"
    }
  },
  "cells": [
    {
      "cell_type": "markdown",
      "metadata": {
        "id": "view-in-github",
        "colab_type": "text"
      },
      "source": [
        "<a href=\"https://colab.research.google.com/github/cyaag/Enterprise-Scale/blob/main/Call_Volume_Forecast.ipynb\" target=\"_parent\"><img src=\"https://colab.research.google.com/assets/colab-badge.svg\" alt=\"Open In Colab\"/></a>"
      ]
    },
    {
      "cell_type": "markdown",
      "source": [
        "#2.2 Exercise- Solution Call Volume Forecasting"
      ],
      "metadata": {
        "id": "BfAHe1HsFKOH"
      }
    },
    {
      "cell_type": "code",
      "execution_count": null,
      "metadata": {
        "id": "PimNQQzqC4mX"
      },
      "outputs": [],
      "source": [
        "# If running in Azure ML Notebooks, the workspace is pre-configured.\n",
        "from azureml.core import Workspace, Dataset, Run\n",
        "import pandas as pd\n",
        "import numpy as np\n",
        "import matplotlib.pyplot as plt\n",
        "from sklearn.linear_model import LinearRegression\n",
        "from sklearn.model_selection import train_test_split\n",
        "from sklearn.metrics import mean_absolute_error\n",
        "\n",
        "# Connect to your Azure ML workspace\n",
        "ws = Workspace.from_config()  # Use the config.json in the project"
      ]
    },
    {
      "cell_type": "code",
      "source": [
        "# Load data directly from the CSV file in the project folder\n",
        "# The 'parse_dates' argument tells pandas to automatically convert date columns\n",
        "df = pd.read_csv('data_call_center.csv', parse_dates=['occurrence_date', 'closure_date'])\n",
        "\n",
        "print(\"Data loaded successfully. Here's a preview:\")\n",
        "df.head()"
      ],
      "metadata": {
        "id": "EYWfcqgVDve_"
      },
      "execution_count": null,
      "outputs": []
    },
    {
      "cell_type": "markdown",
      "source": [
        "##Step 1:Preprocesss the Data for required Features"
      ],
      "metadata": {
        "id": "aDNZ8qtnD5lG"
      }
    },
    {
      "cell_type": "code",
      "source": [
        "# Create seasonality features from the 'occurrence_date'\n",
        "df['day_of_week'] = df['occurrence_date'].dt.dayofweek  # Monday=0, Sunday=6\n",
        "df['month'] = df['occurrence_date'].dt.month\n",
        "\n",
        "# One-hot encode the 'channel' column to use it as a feature\n",
        "df = pd.get_dummies(df, columns=['channel'], drop_first=True)\n",
        "\n",
        "# Define the features (X) and the target variable (y)\n",
        "features = ['day_of_week', 'month', 'promotion', 'downtime', 'channel_voice']\n",
        "X = df[features]\n",
        "y = df['call_volume']\n",
        "\n",
        "print(\"\\nFeatures for the model:\")\n",
        "X.head()"
      ],
      "metadata": {
        "id": "bChqnBRYD72M"
      },
      "execution_count": null,
      "outputs": []
    },
    {
      "cell_type": "markdown",
      "source": [
        "## Step 2:Train and Split the Data for Testing and Traininng"
      ],
      "metadata": {
        "id": "5O-G9-04EQTm"
      }
    },
    {
      "cell_type": "code",
      "source": [
        "# Split data into training and testing sets (80% train, 20% test)\n",
        "X_train, X_test, y_train, y_test = train_test_split(X, y, test_size=0.2, random_state=42)\n",
        "\n",
        "print(f\"\\nTraining set size: {len(X_train)} rows\")\n",
        "print(f\"Testing set size: {len(X_test)} rows\")"
      ],
      "metadata": {
        "id": "r4g9yG4WEVeU"
      },
      "execution_count": null,
      "outputs": []
    },
    {
      "cell_type": "markdown",
      "source": [
        "## Step 3: Regression Model for Call Volume"
      ],
      "metadata": {
        "id": "etW5y9f4EhEh"
      }
    },
    {
      "cell_type": "code",
      "source": [
        "# Initialize and train the Linear Regression model\n",
        "model = LinearRegression()\n",
        "model.fit(X_train, y_train)\n",
        "\n",
        "# Make predictions on the test set\n",
        "y_pred = model.predict(X_test)\n",
        "\n",
        "# Evaluate the model\n",
        "mae = mean_absolute_error(y_test, y_pred)\n",
        "print(f\"\\nModel training complete.\")\n",
        "print(f\"Mean Absolute Error on Test Data: {mae:.2f}\")"
      ],
      "metadata": {
        "id": "8t6QMgu4Er-O"
      },
      "execution_count": null,
      "outputs": []
    },
    {
      "cell_type": "markdown",
      "source": [
        "##Visualize and Forecast"
      ],
      "metadata": {
        "id": "uvF98iYME3vP"
      }
    },
    {
      "cell_type": "code",
      "source": [
        "plt.figure(figsize=(10, 6))\n",
        "plt.plot(y_test.values, label='Actual Call Volume', marker='o')\n",
        "plt.plot(y_pred, label='Predicted Call Volume', marker='x', linestyle='--')\n",
        "plt.title('Call Volume Forecast vs. Actual')\n",
        "plt.xlabel('Test Sample Index')\n",
        "plt.ylabel('Call Volume')\n",
        "plt.legend()\n",
        "plt.grid(True)\n",
        "plt.show()"
      ],
      "metadata": {
        "id": "EbDrM9E5E75B"
      },
      "execution_count": null,
      "outputs": []
    },
    {
      "cell_type": "code",
      "source": [
        "# Assume each agent can handle 40 calls per shift\n",
        "calls_per_agent = 40\n",
        "\n",
        "print(\"\\n--- Staffing Recommendations for Next Day ---\")\n",
        "\n",
        "# --- Predict for a VOICE channel on a Wednesday with a promotion ---\n",
        "next_day_voice = pd.DataFrame({\n",
        "    'day_of_week': [2],  # Wednesday\n",
        "    'month': [1],        # January\n",
        "    'promotion': [1],    # Promotion is active\n",
        "    'downtime': [0],     # No downtime\n",
        "    'channel_voice': [1] # 1 for voice channel\n",
        "})\n",
        "predicted_calls_voice = model.predict(next_day_voice)[0]\n",
        "required_agents_voice = int(np.ceil(predicted_calls_voice / calls_per_agent))\n",
        "\n",
        "print(f\"Channel: Voice | Predicted Calls: {predicted_calls_voice:.0f} | Recommended Agents: {required_agents_voice}\")\n",
        "\n",
        "# --- Predict for a CHAT channel on a Wednesday with a promotion ---\n",
        "next_day_chat = pd.DataFrame({\n",
        "    'day_of_week': [2],  # Wednesday\n",
        "    'month': [1],        # January\n",
        "    'promotion': [1],    # Promotion is active\n",
        "    'downtime': [0],     # No downtime\n",
        "    'channel_voice': [0] # 0 for chat channel\n",
        "})\n",
        "predicted_calls_chat = model.predict(next_day_chat)[0]\n",
        "required_agents_chat = int(np.ceil(predicted_calls_chat / calls_per_agent))\n",
        "\n",
        "print(f\"Channel: Chat  | Predicted Calls: {predicted_calls_chat:.0f} | Recommended Agents: {required_agents_chat}\")"
      ],
      "metadata": {
        "id": "GbI0gAe0FQdW"
      },
      "execution_count": null,
      "outputs": []
    },
    {
      "cell_type": "code",
      "source": [
        "# Save the trained model to a file for later use or deployment\n",
        "model_filename = 'call_volume_forecast_model.pkl'\n",
        "joblib.dump(model, model_filename)\n",
        "\n",
        "print(f\"\\nModel saved successfully as '{model_filename}'\")"
      ],
      "metadata": {
        "id": "GMJZNMaHFsBo"
      },
      "execution_count": null,
      "outputs": []
    }
  ]
}