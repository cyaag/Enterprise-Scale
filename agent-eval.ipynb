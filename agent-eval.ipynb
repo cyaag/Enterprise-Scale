{
  "cells": [
    {
      "cell_type": "markdown",
      "metadata": {
        "id": "sdtvMZNQrZOf"
      },
      "source": []
    },
    {
      "cell_type": "code",
      "execution_count": 1,
      "metadata": {
        "id": "ZL7J-0_yrZOi",
        "colab": {
          "base_uri": "https://localhost:8080/"
        },
        "outputId": "b29bf015-aa26-4ba6-d4e8-8390a3e9cb61"
      },
      "source": [
        "!pip install git+https://github.com/ibm-granite-community/utils \\\n",
        "    \"langchain_community<0.3.0\" \\\n",
        "    replicate"
      ],
      "outputs": [
        {
          "output_type": "stream",
          "name": "stdout",
          "text": [
            "Collecting git+https://github.com/ibm-granite-community/utils\n",
            "  Cloning https://github.com/ibm-granite-community/utils to /tmp/pip-req-build-zh5jwe2_\n",
            "  Running command git clone --filter=blob:none --quiet https://github.com/ibm-granite-community/utils /tmp/pip-req-build-zh5jwe2_\n",
            "  Resolved https://github.com/ibm-granite-community/utils to commit 1514191fbbc4605ed4fdfdcb448f2ee41477058f\n",
            "  Installing build dependencies ... \u001b[?25l\u001b[?25hdone\n",
            "  Getting requirements to build wheel ... \u001b[?25l\u001b[?25hdone\n",
            "  Preparing metadata (pyproject.toml) ... \u001b[?25l\u001b[?25hdone\n",
            "Requirement already satisfied: langchain_community<0.3.0 in /usr/local/lib/python3.11/dist-packages (0.2.19)\n",
            "Requirement already satisfied: replicate in /usr/local/lib/python3.11/dist-packages (1.0.7)\n",
            "Requirement already satisfied: python-dotenv in /usr/local/lib/python3.11/dist-packages (from ibm-granite-community-utils==0.1.dev74) (1.1.1)\n",
            "Requirement already satisfied: langchain_core in /usr/local/lib/python3.11/dist-packages (from ibm-granite-community-utils==0.1.dev74) (0.2.43)\n",
            "Requirement already satisfied: typing_extensions in /usr/local/lib/python3.11/dist-packages (from ibm-granite-community-utils==0.1.dev74) (4.14.0)\n",
            "Requirement already satisfied: PyYAML>=5.3 in /usr/local/lib/python3.11/dist-packages (from langchain_community<0.3.0) (6.0.2)\n",
            "Requirement already satisfied: SQLAlchemy<3,>=1.4 in /usr/local/lib/python3.11/dist-packages (from langchain_community<0.3.0) (2.0.41)\n",
            "Requirement already satisfied: aiohttp<4.0.0,>=3.8.3 in /usr/local/lib/python3.11/dist-packages (from langchain_community<0.3.0) (3.11.15)\n",
            "Requirement already satisfied: dataclasses-json<0.7,>=0.5.7 in /usr/local/lib/python3.11/dist-packages (from langchain_community<0.3.0) (0.6.7)\n",
            "Requirement already satisfied: langchain<0.3.0,>=0.2.17 in /usr/local/lib/python3.11/dist-packages (from langchain_community<0.3.0) (0.2.17)\n",
            "Requirement already satisfied: langsmith<0.2.0,>=0.1.112 in /usr/local/lib/python3.11/dist-packages (from langchain_community<0.3.0) (0.1.147)\n",
            "Requirement already satisfied: numpy<2,>=1 in /usr/local/lib/python3.11/dist-packages (from langchain_community<0.3.0) (1.26.4)\n",
            "Requirement already satisfied: requests<3,>=2 in /usr/local/lib/python3.11/dist-packages (from langchain_community<0.3.0) (2.32.3)\n",
            "Requirement already satisfied: tenacity!=8.4.0,<9.0.0,>=8.1.0 in /usr/local/lib/python3.11/dist-packages (from langchain_community<0.3.0) (8.5.0)\n",
            "Requirement already satisfied: httpx<1,>=0.21.0 in /usr/local/lib/python3.11/dist-packages (from replicate) (0.28.1)\n",
            "Requirement already satisfied: packaging in /usr/local/lib/python3.11/dist-packages (from replicate) (24.2)\n",
            "Requirement already satisfied: pydantic>1.10.7 in /usr/local/lib/python3.11/dist-packages (from replicate) (2.11.7)\n",
            "Requirement already satisfied: aiohappyeyeballs>=2.3.0 in /usr/local/lib/python3.11/dist-packages (from aiohttp<4.0.0,>=3.8.3->langchain_community<0.3.0) (2.6.1)\n",
            "Requirement already satisfied: aiosignal>=1.1.2 in /usr/local/lib/python3.11/dist-packages (from aiohttp<4.0.0,>=3.8.3->langchain_community<0.3.0) (1.3.2)\n",
            "Requirement already satisfied: attrs>=17.3.0 in /usr/local/lib/python3.11/dist-packages (from aiohttp<4.0.0,>=3.8.3->langchain_community<0.3.0) (25.3.0)\n",
            "Requirement already satisfied: frozenlist>=1.1.1 in /usr/local/lib/python3.11/dist-packages (from aiohttp<4.0.0,>=3.8.3->langchain_community<0.3.0) (1.7.0)\n",
            "Requirement already satisfied: multidict<7.0,>=4.5 in /usr/local/lib/python3.11/dist-packages (from aiohttp<4.0.0,>=3.8.3->langchain_community<0.3.0) (6.6.3)\n",
            "Requirement already satisfied: propcache>=0.2.0 in /usr/local/lib/python3.11/dist-packages (from aiohttp<4.0.0,>=3.8.3->langchain_community<0.3.0) (0.3.2)\n",
            "Requirement already satisfied: yarl<2.0,>=1.17.0 in /usr/local/lib/python3.11/dist-packages (from aiohttp<4.0.0,>=3.8.3->langchain_community<0.3.0) (1.20.1)\n",
            "Requirement already satisfied: marshmallow<4.0.0,>=3.18.0 in /usr/local/lib/python3.11/dist-packages (from dataclasses-json<0.7,>=0.5.7->langchain_community<0.3.0) (3.26.1)\n",
            "Requirement already satisfied: typing-inspect<1,>=0.4.0 in /usr/local/lib/python3.11/dist-packages (from dataclasses-json<0.7,>=0.5.7->langchain_community<0.3.0) (0.9.0)\n",
            "Requirement already satisfied: anyio in /usr/local/lib/python3.11/dist-packages (from httpx<1,>=0.21.0->replicate) (4.9.0)\n",
            "Requirement already satisfied: certifi in /usr/local/lib/python3.11/dist-packages (from httpx<1,>=0.21.0->replicate) (2025.6.15)\n",
            "Requirement already satisfied: httpcore==1.* in /usr/local/lib/python3.11/dist-packages (from httpx<1,>=0.21.0->replicate) (1.0.9)\n",
            "Requirement already satisfied: idna in /usr/local/lib/python3.11/dist-packages (from httpx<1,>=0.21.0->replicate) (3.10)\n",
            "Requirement already satisfied: h11>=0.16 in /usr/local/lib/python3.11/dist-packages (from httpcore==1.*->httpx<1,>=0.21.0->replicate) (0.16.0)\n",
            "Requirement already satisfied: langchain-text-splitters<0.3.0,>=0.2.0 in /usr/local/lib/python3.11/dist-packages (from langchain<0.3.0,>=0.2.17->langchain_community<0.3.0) (0.2.4)\n",
            "Requirement already satisfied: jsonpatch<2.0,>=1.33 in /usr/local/lib/python3.11/dist-packages (from langchain_core->ibm-granite-community-utils==0.1.dev74) (1.33)\n",
            "Requirement already satisfied: orjson<4.0.0,>=3.9.14 in /usr/local/lib/python3.11/dist-packages (from langsmith<0.2.0,>=0.1.112->langchain_community<0.3.0) (3.10.18)\n",
            "Requirement already satisfied: requests-toolbelt<2.0.0,>=1.0.0 in /usr/local/lib/python3.11/dist-packages (from langsmith<0.2.0,>=0.1.112->langchain_community<0.3.0) (1.0.0)\n",
            "Requirement already satisfied: annotated-types>=0.6.0 in /usr/local/lib/python3.11/dist-packages (from pydantic>1.10.7->replicate) (0.7.0)\n",
            "Requirement already satisfied: pydantic-core==2.33.2 in /usr/local/lib/python3.11/dist-packages (from pydantic>1.10.7->replicate) (2.33.2)\n",
            "Requirement already satisfied: typing-inspection>=0.4.0 in /usr/local/lib/python3.11/dist-packages (from pydantic>1.10.7->replicate) (0.4.1)\n",
            "Requirement already satisfied: charset-normalizer<4,>=2 in /usr/local/lib/python3.11/dist-packages (from requests<3,>=2->langchain_community<0.3.0) (3.4.2)\n",
            "Requirement already satisfied: urllib3<3,>=1.21.1 in /usr/local/lib/python3.11/dist-packages (from requests<3,>=2->langchain_community<0.3.0) (2.4.0)\n",
            "Requirement already satisfied: greenlet>=1 in /usr/local/lib/python3.11/dist-packages (from SQLAlchemy<3,>=1.4->langchain_community<0.3.0) (3.2.3)\n",
            "Requirement already satisfied: jsonpointer>=1.9 in /usr/local/lib/python3.11/dist-packages (from jsonpatch<2.0,>=1.33->langchain_core->ibm-granite-community-utils==0.1.dev74) (3.0.0)\n",
            "Requirement already satisfied: mypy-extensions>=0.3.0 in /usr/local/lib/python3.11/dist-packages (from typing-inspect<1,>=0.4.0->dataclasses-json<0.7,>=0.5.7->langchain_community<0.3.0) (1.1.0)\n",
            "Requirement already satisfied: sniffio>=1.1 in /usr/local/lib/python3.11/dist-packages (from anyio->httpx<1,>=0.21.0->replicate) (1.3.1)\n"
          ]
        }
      ]
    },
    {
      "cell_type": "code",
      "source": [
        "!pip install mlflow"
      ],
      "metadata": {
        "id": "Hek660pTvzCz"
      },
      "execution_count": null,
      "outputs": []
    },
    {
      "cell_type": "code",
      "execution_count": null,
      "metadata": {
        "id": "tVyHzQC_rZOk"
      },
      "source": [
        "import os\n",
        "import replicate\n",
        "import json\n",
        "from ibm_granite_community.notebook_utils import get_env_var\n",
        "from langchain_community.llms import Replicate\n",
        "\n",
        "model = Replicate(\n",
        "    model=\"ibm-granite/granite-3.3-8b-instruct\",\n",
        "    replicate_api_token=get_env_var('REPLICATE_API_TOKEN'),\n",
        "    model_kwargs={\"max_tokens\":1024, \"temperature\":0.2},\n",
        ")\n",
        "\n",
        "print('✅ Setup complete!')"
      ],
      "outputs": []
    },
    {
      "cell_type": "code",
      "execution_count": null,
      "metadata": {
        "id": "qRkhnunJrZOl"
      },
      "source": [
        "from typing import Dict, List, Optional\n",
        "import json\n",
        "\n",
        "class SimpleAgent:\n",
        "    def __init__(self):\n",
        "        \"\"\"Initialize the SimpleAgent with product database\"\"\"\n",
        "        self.products = [\n",
        "            {\n",
        "                \"id\": \"P010\",\n",
        "                \"name\": \"Wireless Headphones\",\n",
        "                \"category\": \"Electronics\",\n",
        "                \"description\": \"High-quality wireless headphones with noise cancellation\",\n",
        "                \"price\": 149.99,\n",
        "                \"stock\": 75,\n",
        "                \"delivery\": {\n",
        "                    \"shipping_cost\": 4.99,\n",
        "                    \"free_shipping_threshold\": 100,\n",
        "                    \"estimated_days\": \"2-3\"\n",
        "                }\n",
        "            },\n",
        "            {\n",
        "                \"id\": \"P022\",\n",
        "                \"name\": \"Running Shoes\",\n",
        "                \"category\": \"Sports\",\n",
        "                \"description\": \"Lightweight running shoes with cushioned soles\",\n",
        "                \"price\": 89.99,\n",
        "                \"stock\": 120,\n",
        "                \"delivery\": {\n",
        "                    \"shipping_cost\": 5.99,\n",
        "                    \"free_shipping_threshold\": 100,\n",
        "                    \"estimated_days\": \"3-5\"\n",
        "                }\n",
        "            },\n",
        "            {\n",
        "                \"id\": \"P035\",\n",
        "                \"name\": \"Coffee Maker\",\n",
        "                \"category\": \"Kitchen\",\n",
        "                \"description\": \"Programmable coffee maker with 12-cup capacity\",\n",
        "                \"price\": 79.99,\n",
        "                \"stock\": 45,\n",
        "                \"delivery\": {\n",
        "                    \"shipping_cost\": 7.99,\n",
        "                    \"free_shipping_threshold\": 100,\n",
        "                    \"estimated_days\": \"2-4\"\n",
        "                }\n",
        "            },\n",
        "            {\n",
        "                \"id\": \"P012\",\n",
        "                \"name\": \"Laptop Stand\",\n",
        "                \"category\": \"Electronics\",\n",
        "                \"description\": \"Adjustable aluminum laptop stand with cooling\",\n",
        "                \"price\": 29.99,\n",
        "                \"stock\": 150,\n",
        "                \"delivery\": {\n",
        "                    \"shipping_cost\": 3.99,\n",
        "                    \"free_shipping_threshold\": 50,\n",
        "                    \"estimated_days\": \"1-2\"\n",
        "                }\n",
        "            },\n",
        "            {\n",
        "                \"id\": \"P007\",\n",
        "                \"name\": \"Yoga Mat\",\n",
        "                \"category\": \"Sports\",\n",
        "                \"description\": \"Non-slip yoga mat with carrying strap\",\n",
        "                \"price\": 24.99,\n",
        "                \"stock\": 95,\n",
        "                \"delivery\": {\n",
        "                    \"shipping_cost\": 4.99,\n",
        "                    \"free_shipping_threshold\": 50,\n",
        "                    \"estimated_days\": \"2-3\"\n",
        "                }\n",
        "            },\n",
        "            {\n",
        "                \"id\": \"P045\",\n",
        "                \"name\": \"Wireless Mouse\",\n",
        "                \"category\": \"Electronics\",\n",
        "                \"description\": \"Ergonomic Wireless Mouse with Rechargable Battery\",\n",
        "                \"price\": 49.99,\n",
        "                \"stock\": 18,\n",
        "                \"delivery\": {\n",
        "                    \"shipping_cost\": 4.99,\n",
        "                    \"free_shipping_threshold\": 50,\n",
        "                    \"estimated_days\": \"2-3\"\n",
        "                }\n",
        "            }\n",
        "        ]\n",
        "\n",
        "    def get_product_info(self, product_id: str) -> str:\n",
        "        \"\"\"Tool 1: Get product description and category\"\"\"\n",
        "        product = self._find_product(product_id)\n",
        "        if not product:\n",
        "            return \"Product not found.\"\n",
        "\n",
        "        return f\"Product: {product['name']}\\nCategory: {product['category']}\\nDescription: {product['description']}\"\n",
        "\n",
        "    def get_price(self, product_id: str) -> str:\n",
        "        \"\"\"Tool 2: Get product price information\"\"\"\n",
        "        product = self._find_product(product_id)\n",
        "        if not product:\n",
        "            return \"Product not found.\"\n",
        "\n",
        "        return f\"Price: ${product['price']:.2f}\"\n",
        "\n",
        "    def get_delivery_info(self, product_id: str) -> str:\n",
        "        \"\"\"Tool 3: Get delivery details\"\"\"\n",
        "        product = self._find_product(product_id)\n",
        "        if not product:\n",
        "            return \"Product not found.\"\n",
        "\n",
        "        delivery = product['delivery']\n",
        "        free_shipping_msg = f\"\\nFree shipping on orders over ${delivery['free_shipping_threshold']:.2f}\"\n",
        "\n",
        "        return (f\"Shipping Cost: ${delivery['shipping_cost']:.2f}\\n\"\n",
        "                f\"Estimated Delivery: {delivery['estimated_days']} business days\"\n",
        "                f\"{free_shipping_msg}\")\n",
        "\n",
        "    def check_stock(self, product_id: str) -> str:\n",
        "        \"\"\"Tool 4: Check stock availability\"\"\"\n",
        "        product = self._find_product(product_id)\n",
        "        if not product:\n",
        "            return \"Product not found.\"\n",
        "\n",
        "        stock = product['stock']\n",
        "        if stock > 100:\n",
        "            status = \"High Stock\"\n",
        "        elif stock > 50:\n",
        "            status = \"Good Stock\"\n",
        "        elif stock > 10:\n",
        "            status = \"Limited Stock\"\n",
        "        else:\n",
        "            status = \"Low Stock\"\n",
        "\n",
        "        return f\"Stock Status: {status} ({stock} units available)\"\n",
        "\n",
        "    def _find_product(self, product_id: str) -> Optional[Dict]:\n",
        "        \"\"\"Helper method to find a product by ID\"\"\"\n",
        "        for product in self.products:\n",
        "            if product['id'] == product_id:\n",
        "                return product\n",
        "        return None"
      ],
      "outputs": []
    },
    {
      "cell_type": "code",
      "source": [
        "%pip install replicate\n",
        "%pip install unitxt\n",
        "%pip install openai\n",
        "%pip install litellm\n",
        "%pip install diskcache\n",
        "%pip install tenacity\n",
        "%pip install tabulate\n",
        "%pip install git+https://github.com/ibm-granite-community/utils\n",
        "\n",
        "\n",
        "from unitxt.api import evaluate, create_dataset\n",
        "from unitxt.inference import CrossProviderInferenceEngine\n",
        "from unitxt.llm_as_judge import LLMJudgeDirect, DirectCriteriaCatalogEnum\n",
        "\n",
        "from ibm_granite_community.notebook_utils import get_env_var\n",
        "\n",
        "\n",
        "import nest_asyncio\n",
        "nest_asyncio.apply()"
      ],
      "metadata": {
        "id": "GDR4aO33hI7u"
      },
      "execution_count": null,
      "outputs": []
    },
    {
      "cell_type": "code",
      "source": [
        "data = [\n",
        "    {\"question\": \"I'm looking for an ergonomic Wireless Mouse\"},\n",
        "    {\"question\": \"Is the product available in stock?\"}\n",
        "]\n",
        "\n",
        "predictions = [\n",
        "    \"\"\"Product P045 is a wireless mouse with ergonomic support and programmable buttons\"\"\",\n",
        "    \"\"\"Product P045 is currently available in your selected region\"\"\"\n",
        "]"
      ],
      "metadata": {
        "id": "cIK2usSihTZN"
      },
      "execution_count": null,
      "outputs": []
    },
    {
      "cell_type": "code",
      "source": [
        "metric = LLMJudgeDirect(\n",
        "    evaluator_name=\"GRANITE3_3_8B\",\n",
        "    inference_engine=CrossProviderInferenceEngine(\n",
        "        model=\"replicate/ibm-granite/granite-3.3-8b-instruct\",\n",
        "        provider=\"replicate\",\n",
        "        credentials={'api_token': get_env_var('REPLICATE_API_TOKEN')},\n",
        "        provider_specific_args={'max_requests_per_second': 1}\n",
        "    ),\n",
        "    criteria=DirectCriteriaCatalogEnum.ANSWER_RELEVANCE.value,\n",
        "    context_fields=[\"question\"],\n",
        "    criteria_field=\"criteria\",\n",
        ")"
      ],
      "metadata": {
        "id": "HsjlyeVbiyPa"
      },
      "execution_count": null,
      "outputs": []
    },
    {
      "cell_type": "code",
      "source": [
        "dataset = create_dataset(\n",
        "    task=\"tasks.qa.open\",\n",
        "    test_set=data,\n",
        "    metrics=[metric],\n",
        "    split=\"test\"\n",
        ")"
      ],
      "metadata": {
        "id": "nNd4EIz5jLAI"
      },
      "execution_count": null,
      "outputs": []
    },
    {
      "cell_type": "code",
      "source": [
        "results = evaluate(predictions=predictions, data=dataset)"
      ],
      "metadata": {
        "id": "NgwHfm_1nLz4"
      },
      "execution_count": null,
      "outputs": []
    },
    {
      "cell_type": "code",
      "source": [
        "print(\"Global Scores:\")\n",
        "print(results.global_scores.summary)\n",
        "\n",
        "print(\"Instance Scores:\")\n",
        "print(results.instance_scores)"
      ],
      "metadata": {
        "id": "_LrI6OoVnH11"
      },
      "execution_count": null,
      "outputs": []
    },
    {
      "cell_type": "code",
      "execution_count": null,
      "metadata": {
        "id": "5AyLPDLCrZOm"
      },
      "source": [
        "def evaluate_response(query: str, tool_used: str, response: str) -> dict:\n",
        "    \"\"\"Evaluate an agent's response using the Granite model\"\"\"\n",
        "\n",
        "    prompt = f\"\"\"<think>\n",
        "Please evaluate this AI agent interaction:\n",
        "\n",
        "User Query: {query}\n",
        "Tool Used: {tool_used}\n",
        "Agent Response: {response}\n",
        "\n",
        "Rate on a scale of 1-5 (5 being best) and provide a brief explanation.\n",
        "Return your evaluation in this JSON format:\n",
        "{{\"score\": <1-5>, \"explanation\": \"<your brief explanation>\"}}\n",
        "</think>\"\"\"\n",
        "\n",
        "    try:\n",
        "        # Get evaluation from Granite\n",
        "        result = model.predict(prompt, max_new_tokens=200)\n",
        "        return json.loads(result.strip())\n",
        "    except:\n",
        "        return {\"score\": 0, \"explanation\": \"Evaluation failed\"}"
      ],
      "outputs": []
    },
    {
      "cell_type": "code",
      "source": [
        "results= evaluate_response(predictions)"
      ],
      "metadata": {
        "id": "irsmRXaOmTRf"
      },
      "execution_count": null,
      "outputs": []
    },
    {
      "cell_type": "code",
      "source": [
        "def try_agent(query: str, tool):\n",
        "    with mlflow.start_run(run_name=example_name):\n",
        "        mlflow.log_param(\"user_input\", user_input)\n",
        "\n",
        "        # Simulate agent response\n",
        "        response = try_agent(user_input)\n",
        "\n",
        "        mlflow.log_param(\"agent_response\", response)\n",
        "        print(f\"\\n{example_name}\")\n",
        "        print(\"Input:\", user_input)\n",
        "        print(\"Response:\", response)\n",
        "\n",
        "        # Optionally log output to a text file\n",
        "        with open(f\"{example_name.replace(' ', '_')}_output.txt\", \"w\") as f:\n",
        "            f.write(f\"Input: {user_input}\\nResponse: {response}\")\n",
        "        mlflow.log_artifact(f\"{example_name.replace(' ', '_')}_output.txt\")"
      ],
      "metadata": {
        "id": "UamrRra7Un2z"
      },
      "execution_count": 1,
      "outputs": []
    },
    {
      "cell_type": "code",
      "source": [
        "# Agent Evaluation tests starts here!\n",
        "try_agent(\n",
        "    query=\"I'm looking for an ergonimic wireless mouse\",  # Your question\n",
        "    tool=agent_tool\n",
        ")"
      ],
      "metadata": {
        "id": "poG_jIiGYMil"
      },
      "execution_count": null,
      "outputs": []
    },
    {
      "cell_type": "markdown",
      "metadata": {
        "id": "afHlgh3arZOo"
      },
      "source": [
        "## Your Turn!\n",
        "\n",
        "Try creating your own queries below. Here are some ideas:\n",
        "- Try different calculations\n",
        "- Check weather for different cities\n",
        "- Analyze different text samples\n",
        "\n",
        "Just copy and modify the example below:"
      ]
    }
  ],
  "metadata": {
    "kernelspec": {
      "display_name": "Python 3",
      "language": "python",
      "name": "python3"
    },
    "language_info": {
      "codemirror_mode": {
        "name": "ipython",
        "version": 3
      },
      "file_extension": ".py",
      "mimetype": "text/x-python",
      "name": "python",
      "nbconvert_exporter": "python",
      "pygments_lexer": "ipython3",
      "version": "3.8.0"
    },
    "colab": {
      "provenance": []
    }
  },
  "nbformat": 4,
  "nbformat_minor": 0
}